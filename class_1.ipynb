{
 "cells": [
  {
   "cell_type": "markdown",
   "metadata": {},
   "source": [
    "# For this session we will be talking about:\n",
    "- Booleans\n",
    "- Variables\n",
    "- Integers & Floats\n",
    "- Basic math functions\n",
    "- Strings \n",
    "- Lists \n",
    "- Tuples\n",
    "- Dictionaries\n",
    "\n",
    "\n",
    "But first, there are a couple commands we will need to know:\n",
    "print() \n",
    "- this will display on the screen whatever you put inside the parentheses\n",
    "\n",
    "= \n",
    "- this will assign a value to a variable\n",
    "\n",
    "== \n",
    "- this will evaluate whether two things are equal\n",
    "\n",
    "type()\n",
    "- this will tell you what 'type' something is. These 'types' are what we are talking about in this session\n",
    "\n"
   ]
  },
  {
   "cell_type": "markdown",
   "metadata": {},
   "source": [
    "# Booleans\n",
    "A boolean is just a True or False variable. Note that True and False are not strings (which we will cover later) but a distinct category. You can display/store them as strings, but they are not, in and of themselves, a string. \n",
    "\n",
    "Booleans can also be equated with 0 (False) and 1 (True)"
   ]
  },
  {
   "cell_type": "code",
   "execution_count": null,
   "metadata": {},
   "outputs": [],
   "source": [
    "print(True == 1) # True\n",
    "\n",
    "# print(True == 0) # False\n",
    "\n",
    "# print(False == 1) # False\n",
    "\n",
    "# print(False == 0) # True"
   ]
  },
  {
   "cell_type": "markdown",
   "metadata": {},
   "source": [
    "# Variables\n",
    "A variable is any thing that can 'house' another piece of informtation. You can think of a variable almost as a nickname.\n",
    "\n",
    "For example, instead of typing \"University of Alabama in Huntsville\" I could 'assign' a variable name of uah, the value, \"University of Alabama in Huntsville\""
   ]
  },
  {
   "cell_type": "code",
   "execution_count": null,
   "metadata": {},
   "outputs": [],
   "source": [
    "uah = \"University of Alabama in Huntsville\"\n",
    "\n",
    "print(uah)\n",
    "\n",
    "# print(uah == \"University of Alabama in Huntsville\") # this will print True \n",
    "\n",
    "# print(uah == \"University of Alabama inHuntsville\") # this will print False (not exactly the same)\n",
    "\n",
    "# print(uah in \"University of Alabama in Huntsville\")"
   ]
  },
  {
   "cell_type": "markdown",
   "metadata": {},
   "source": [
    "# Integers & Floats\n",
    "\n",
    "Integers (abreviated int) in python are just like integers in the real world: any whole number. A float, on the other hand, is any decimal point number.\n",
    "\n",
    "For example:\n",
    "28 is an integer\n",
    "28.0 is a float\n",
    "\n",
    "You can convert an integer into a float by using the float() command:\n",
    "float(19) --> 19.0\n",
    "\n",
    "Conversely, you can convert a float into an integer by using int() command:\n",
    "int(4.5) --> 4\n",
    "\n",
    "However, be very careful converting floats to integers because the system will NOT round up. It literally just cuts off everything after the period"
   ]
  },
  {
   "cell_type": "code",
   "execution_count": null,
   "metadata": {},
   "outputs": [],
   "source": [
    "print(type(28)) # integer\n",
    "# print(type(28.0)) # float\n",
    "\n",
    "# print(type(3.0 + 3)) # float\n",
    "\n",
    "# print(type(10/5)) # float, the division of two integers will always be a float\n",
    "\n",
    "# print(type(5*2)) # integer, the multiplcation of two integers will always be an integer\n",
    "\n",
    "# print(type(5 - 3)) # integer, the addition and subtraction of two integers will always be an integer\n",
    "\n",
    "# print(float(28)) # 28.0\n",
    "\n",
    "# print(int(28.7)) # 28"
   ]
  },
  {
   "cell_type": "markdown",
   "metadata": {},
   "source": [
    "# Basic mathematical functions\n",
    "\n",
    "- Divide   /\n",
    "- Multiply   *\n",
    "- Add   + \n",
    "- Subtract   - \n",
    "- Exponent   **\n",
    "- Modulo (i.e. remainder)   %\n",
    "- Return only whole number   //\n"
   ]
  },
  {
   "cell_type": "code",
   "execution_count": null,
   "metadata": {},
   "outputs": [],
   "source": [
    "print(10 / 3) # 3.3333333\n",
    "\n",
    "# print(29 * 45) # 1305\n",
    "\n",
    "# print(30+1039) # 1069\n",
    "\n",
    "# print(23-20) # 3\n",
    "\n",
    "# print(3**5) # 243\n",
    "\n",
    "# print(100%17) # 15\n",
    "\n",
    "# print(100//17) # 5"
   ]
  },
  {
   "cell_type": "markdown",
   "metadata": {},
   "source": [
    "# Strings\n",
    "Strings are what we call any text in python. So in the example above of assigning \"University of Alabama in Huntsville\" to the variable uah, \"University of Alabama in Huntsville\" is a string. As such, when you would see the 'type' of uah, you would get string (abreviated str)\n",
    "\n",
    "A string can be denoted by either \" \" or ' ' but the closing has to match the start. It is generally good practice to use \" \" since the use of contractions in your string can mess things up.\n",
    "\n",
    "You can also concatenate strings, by adding them together.\n",
    "\n",
    "To convert something to a string, use the str() command"
   ]
  },
  {
   "cell_type": "code",
   "execution_count": null,
   "metadata": {},
   "outputs": [],
   "source": [
    "my_welcome = \"Hello World!\"\n",
    "my_name = \"My name is Nate.\"\n",
    "print(my_welcome)\n",
    "print(my_name)\n",
    "\n",
    "# print(my_welcome, my_name) # prints them together, with a space\n",
    "\n",
    "# complete = my_welcome + my_name # concatenates them, but with no space between\n",
    "# print(complete)\n",
    "\n",
    "# my_number = 123\n",
    "# new_number = str(my_number)\n",
    "# print(new_number == my_number)"
   ]
  },
  {
   "cell_type": "markdown",
   "metadata": {},
   "source": [
    "# Lists\n",
    "\n",
    "Lists are a great way to store information in a single place. You can think of a list as a basket of information that you can constantly be adding to. You denote a list in Python by using [ ].\n",
    "\n",
    "Lists can store any type (e.g. integers, strings, etc.) including other lists. When a list is within a list we call this a 'nested' list. This is typically how high-dimensional datasets are stored.\n",
    "\n",
    "In order to access information stored in a list, you will use a numerical location, starting at 0. You can conversely access information starting from the end of the list working backwards, however this starts at -1.\n",
    "\n",
    "You can also access a range of values in a list by establishing a start and stop position using a : \n",
    "- However note that the stop of that range is not included"
   ]
  },
  {
   "cell_type": "code",
   "execution_count": null,
   "metadata": {},
   "outputs": [],
   "source": [
    "my_list = ['Nate', 'Eric', 'Jenna', 'Amber', 'Carly', 'Michael', 2021]\n",
    "print(my_list)\n",
    "\n",
    "# print(my_list[0]) # prints first item in list\n",
    "\n",
    "# print(my_list[-2]) # prints second to last item in list\n",
    "\n",
    "# print(my_list[1:4]) # prints second item through the fourth item (item at position 4 isn't included)\n",
    "\n",
    "# print(my_list[3:]) # prints from the item at position 3, and on\n",
    "\n",
    "# print(my_list[4::-1]) # prints from item in 4th position and on working backwards\n",
    "\n",
    "\n",
    "# nested_list = [['Taylor', 'Andrew', 'Mike', 'Raja', 'Lisa'], ['Alabama', 'Virginia', 'Colorado']]\n",
    "# print(nested_list[1]) # the second list in the nested_list variable\n",
    "# print(nested_list[1][0]) # Alabama\n",
    "\n",
    "# my_list.append('Raja') # Adds to the end of the list (permanently)\n",
    "# print(my_list)\n",
    "\n",
    "\n",
    "# my_list.pop() # removes the last item\n",
    "# print(my_list) \n",
    "\n",
    "# my_list.pop(2) # removes the item at index 2\n",
    "# print(my_list)\n",
    "\n",
    "# new_list = my_list + nested_list # creates a new list of contents from the other two lists\n",
    "# print(new_list)\n",
    "\n",
    "# new_list[1] = \"Dr. Seemann\" # can redefine value at certain position \n",
    "# print(new_list)"
   ]
  },
  {
   "cell_type": "markdown",
   "metadata": {},
   "source": [
    "# Tuples\n",
    "\n",
    "Tuples are like lists, but they cannot be changed. They are indicated by the use of ( ) \n",
    "\n",
    "Note that parentheses are used throughout Python and so not everything that falls within parentheses would be considered a tuple. Tuples are good to use when you have a set of information you want to make sure is not accidentally changed.\n",
    "\n",
    "You can still recall information from the tuple in the same way, but you cannot change it. You can concatnate tuples, but you cannot append. "
   ]
  },
  {
   "cell_type": "code",
   "execution_count": null,
   "metadata": {},
   "outputs": [],
   "source": [
    "my_tuple = (2, 2, \"Nate\", [3, \"Fourty\"])\n",
    "print(my_tuple[1])\n",
    "\n",
    "# my_tuple += (\"hello\", 43)\n",
    "# print(my_tuple)\n",
    "\n",
    "# my_tuple[2] = 'Natertots' #this will throw an error because you cannot assign in tuples"
   ]
  },
  {
   "cell_type": "markdown",
   "metadata": {},
   "source": [
    "# Dictionaries \n",
    "\n",
    "Dictionaries are unique ways to store information in an easily retrievable way. Dictionaries are made up of 'keys' and 'values'. Keys are typically strings or ints, and while there are ways to make the keys something else, it is best to stick with the standard convention.\n",
    "\n",
    "Values, on the other hand, can be of any type, including other dictionaries (which we call nested dictionaries). You can retrieve information from a dictionary in the same manner that you do with a list (by using [ ] ), but instead of using the index value, you use the key value. \n",
    "\n",
    "Dictionaries can be assigned new values, and are incredibly versitile for the storage of ordered information.\n",
    "\n",
    "We designate that something is of type 'dict' with  { }. Inside the brackets, the key and its corresponding value are separated by a colon. Each key/value pair is separated by a comma."
   ]
  },
  {
   "cell_type": "code",
   "execution_count": 2,
   "metadata": {},
   "outputs": [
    {
     "name": "stdout",
     "output_type": "stream",
     "text": [
      "Meow and I hate you\n",
      "False\n"
     ]
    }
   ],
   "source": [
    "animal_noises = {'Cow': 'Moooooo', 'Dog': 'Ruff', 'Cat': 'Meow and I hate you'}\n",
    "print(animal_noises['Cat'])\n",
    "\n",
    "# user_database.keys()\n",
    "\n",
    "# animal_noises['Snake'] = 'SSSSSSSSSSS'\n",
    "# print(animal_noises)\n",
    "\n",
    "# user_database = {'Nate': [31, 'Forrest Green', 'Sushi'], 'Danny': [28, 'Sky Blue', 'Pizza'], 'Mark': [62, '', 'Goetta']}\n",
    "# print(user_database['Nate'])\n",
    "# print(user_database['Nate'][1])\n",
    "\n",
    "# user_database = {'Nate': {'age': 31, 'fav color': 'Forrest Green', 'fav food': 'Sushi'}, \n",
    "#                  'Danny': {'age': 28, 'fav color': 'Sky Blue', 'fav food': 'Pizza'},\n",
    "#                  'Mark': {'age': 62, 'fav color': '', 'fav food': 'Goetta'}}\n",
    "\n",
    "# print(user_database['Danny']['fav food'])\n",
    "\n",
    "# print(user_database['Danny']['age'] > user_database['Nate']['age'])"
   ]
  },
  {
   "cell_type": "markdown",
   "metadata": {},
   "source": [
    "\n",
    "\n",
    "\n",
    "\n",
    "\n",
    "# Practice \"Assignments\""
   ]
  },
  {
   "cell_type": "markdown",
   "metadata": {},
   "source": [
    "Create a dictionary and give it the following keys: UAH, UAB, and UA. Then, for each of those keys, store information for the number of students, the location of the school, and the primary school colors (all of this can just be made up). Then write code which will evaluate, as boolean values, whether UAH has more students than UAB and stores that in a variable called uah_higher. Then print out the value of uah_higher to the screen."
   ]
  },
  {
   "cell_type": "code",
   "execution_count": null,
   "metadata": {},
   "outputs": [],
   "source": []
  },
  {
   "cell_type": "markdown",
   "metadata": {},
   "source": [
    "Now assign a new key, named Auburn, with values made up for that school as well. Print out the new dictionary. (Hint, you won't need to change the initial assignment, you can just tag on a new key and values)"
   ]
  },
  {
   "cell_type": "code",
   "execution_count": null,
   "metadata": {},
   "outputs": [],
   "source": []
  },
  {
   "cell_type": "markdown",
   "metadata": {},
   "source": [
    "Add the remainder of 10/3 to 17, and print out that value."
   ]
  },
  {
   "cell_type": "code",
   "execution_count": null,
   "metadata": {},
   "outputs": [],
   "source": []
  },
  {
   "cell_type": "markdown",
   "metadata": {},
   "source": [
    "Make a list with the following numbers: 135, 3158, 97, 23, 8931456\n",
    "\n",
    "Now perform the following operations, by only referencing the list, rather than typing in the raw numbers:\n",
    "\n",
    "8931456 / 97\n",
    "\n",
    "(135 + 23) * 3158\n",
    "\n",
    "135 raised to the remainder of 8931456/3158, \n"
   ]
  },
  {
   "cell_type": "code",
   "execution_count": null,
   "metadata": {},
   "outputs": [],
   "source": []
  }
 ],
 "metadata": {
  "kernelspec": {
   "display_name": "Python 3",
   "language": "python",
   "name": "python3"
  },
  "language_info": {
   "codemirror_mode": {
    "name": "ipython",
    "version": 3
   },
   "file_extension": ".py",
   "mimetype": "text/x-python",
   "name": "python",
   "nbconvert_exporter": "python",
   "pygments_lexer": "ipython3",
   "version": "3.8.5"
  }
 },
 "nbformat": 4,
 "nbformat_minor": 4
}
